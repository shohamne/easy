{
 "cells": [
  {
   "cell_type": "code",
   "execution_count": null,
   "metadata": {},
   "outputs": [],
   "source": [
    "import matplotlib.pyplot as plt"
   ]
  },
  {
   "cell_type": "code",
   "execution_count": null,
   "metadata": {},
   "outputs": [],
   "source": [
    "from collections import namedtuple\n",
    "import pandas as pd\n",
    "#pd.style.set_properties(subset=['ad_description'], **{'width-min': '300px'})\n",
    "\n",
    "\n",
    "fnames = []\n",
    "KW = ['D', 'X', 'R', 'S', 'M', 'N', 'A', 'B', 'G']\n",
    "Key = namedtuple('Key', KW + ['i'])\n",
    "keys = []\n",
    "datasets = ['cifarfs',  'fc100', 'miniimagenet',]# 'miniimagenet84',]# 'tieredimagenet']\n",
    "for i in [1, 2, 3, ]:\n",
    "    for D in datasets:\n",
    "        for M in ['']:\n",
    "            for N in [0.0, 0.2, 0.4, 0.6]:\n",
    "                for NT in [N]:\n",
    "                    for X in [0]:\n",
    "                        for S in ['00.0']:\n",
    "                            for R in [0.0, 0.1, 0.2, 0.3, 0.4, 0.5, 0.6, 0.7, 0.8]:\n",
    "                                for A in [-1, 1]:\n",
    "                                    B = A\n",
    "                                    for G in [0]:\n",
    "                                        if A == 1:\n",
    "                                            fnames.append(f'features.{D}{M}_{R}_n{N}_x{X}_s{S}_a{A}_b{B}_g{G}_#{i}.pt55.lam1000.0_nt{NT}.csv')\n",
    "                                        else:\n",
    "                                            fnames.append(f'features.{D}{M}_{R}_n{N}_x{X}_s{S}_#{i}.pt55.lam1000.0_nt{NT}.csv')\n",
    "                                        keys.append(Key(D=D, X=X, R=R, S=float(S), A=A, B=B, G=G, M=M, N=N, i=i))\n",
    " "
   ]
  },
  {
   "cell_type": "code",
   "execution_count": null,
   "metadata": {},
   "outputs": [],
   "source": [
    "recs = []\n",
    "shots = [5]\n",
    "mets = [\n",
    "'test_acc', \n",
    "# 'test_acc_me1', \n",
    "# 'test_acc_me2',\n",
    "# 'test_acc_me3',\n",
    "# 'test_acc_me4',\n",
    "# 'test_acc_me5',\n",
    "# 'test_acc_me6',\n",
    "# 'test_acc_me7',\n",
    "# 'test_acc_me8',\n",
    "# 'test_acc_me9',\n",
    "'test_acc_med',\n",
    "'test_acc_maj',\n",
    "\n",
    "]\n",
    "\n",
    "metrics = set()\n",
    "for key, fname in zip(keys, fnames):\n",
    "    #print(key)\n",
    "    rec = {}\n",
    "    cdf = pd.read_csv(f'results/{fname}')\n",
    "    #print(cdf.columns)\n",
    "    #rec['test_acc_80'] = cdf[cdf.shots==80].test_acc*100\n",
    "    for m in mets:\n",
    "        for s in shots:\n",
    "            metric = f'{m}_{s}' \n",
    "            rec[metric] = float(cdf[m][cdf.shots==s]*100)\n",
    "            metrics.add(metric)  \n",
    "    for k in KW +['i',]:\n",
    "        rec[k] = key.__getattribute__(k)\n",
    "    recs.append(rec)\n",
    "metrics = sorted(list(metrics))\n",
    "#metrics = ['test_acc_5', 'test_acc_80', 'test_acc_lin_5', 'test_acc_lin_80']\n",
    "\n",
    "\n",
    "\n",
    "\n"
   ]
  },
  {
   "cell_type": "code",
   "execution_count": null,
   "metadata": {},
   "outputs": [],
   "source": [
    "df = pd.DataFrame(recs)\n",
    "print(KW)\n",
    "df = df.groupby(KW).mean().reset_index()\n",
    "\n",
    "print(df.to_markdown())\n",
    "print(df.groupby('N').mean())"
   ]
  },
  {
   "cell_type": "code",
   "execution_count": null,
   "metadata": {},
   "outputs": [],
   "source": [
    "plt.figure(figsize=(5*len(df.D.unique()),5))\n",
    "for metric, dash, y_shift, text_color in zip(metrics, ['-', '--','.-'], [1.5, -2, 3.5], ('k','c','m')):\n",
    "    for i,D in enumerate(df.D.unique()):\n",
    "        plt.subplot(1, len(df.D.unique()), i+1)\n",
    "        for N in sorted(df.N.unique()):\n",
    "            for A,color in zip(sorted(df.A.unique()), ['k', 'r']):\n",
    "                cdf = df[df.D==D][df.M==''][df.S==0.0][df.N==N][df.A==A].sort_values('R')\n",
    "                vals = cdf[metric].astype(float)\n",
    "                plt.plot(cdf.R, vals, dash, label=f'noise: {N}, met={metric}', color=color)\n",
    "                plt.text(cdf.R.iloc[vals.argmax()], vals.max()+y_shift, f'{vals.max():.1f}', color=text_color)\n",
    "                plt.text(cdf.R.iloc[0], vals.iloc[0]+y_shift, f'{vals.iloc[0]:.1f}', color=text_color)\n",
    "        plt.legend(loc=(0,-2))\n",
    "        plt.title(f'{D}') \n",
    "\n",
    "print(list(zip(metrics, ('k','c','m'))))\n",
    "\n",
    "plt.show()"
   ]
  }
 ],
 "metadata": {
  "interpreter": {
   "hash": "5b2c14c5f2a3b21e6c2412c8196f5145870350e81c0b737cae3e5c60eb1e1eac"
  },
  "kernelspec": {
   "display_name": "Python 3.8.12 ('pytorch_p38')",
   "language": "python",
   "name": "python3"
  },
  "language_info": {
   "codemirror_mode": {
    "name": "ipython",
    "version": 3
   },
   "file_extension": ".py",
   "mimetype": "text/x-python",
   "name": "python",
   "nbconvert_exporter": "python",
   "pygments_lexer": "ipython3",
   "version": "3.8.12"
  },
  "orig_nbformat": 4
 },
 "nbformat": 4,
 "nbformat_minor": 2
}
